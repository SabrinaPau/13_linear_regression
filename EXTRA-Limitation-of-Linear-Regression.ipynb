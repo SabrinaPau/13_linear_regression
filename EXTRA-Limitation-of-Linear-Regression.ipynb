{
 "cells": [
  {
   "cell_type": "markdown",
   "metadata": {},
   "source": [
    "# EXTRA: Limitation of Linear Regression"
   ]
  },
  {
   "cell_type": "markdown",
   "metadata": {},
   "source": [
    "The goal of this notebook is to highlight the limitations of Linear Regression.  \n",
    "The Linear Regression model is only able to model **linear relationships**.  \n",
    "We use this famous collection of datasets to show OLS can return the same results from very different data."
   ]
  },
  {
   "cell_type": "markdown",
   "metadata": {
    "slideshow": {
     "slide_type": "slide"
    }
   },
   "source": [
    "__[Anscombe's quartet](https://en.wikipedia.org/wiki/Anscombe's_quartet)__"
   ]
  },
  {
   "cell_type": "code",
   "execution_count": null,
   "metadata": {
    "ExecuteTime": {
     "end_time": "2020-05-04T12:47:51.075402Z",
     "start_time": "2020-05-04T12:47:49.531811Z"
    },
    "slideshow": {
     "slide_type": "slide"
    }
   },
   "outputs": [],
   "source": [
    "import matplotlib.pyplot as plt\n",
    "import numpy as np\n",
    "import pandas as pd\n",
    "from scipy import stats\n",
    "import seaborn as sns\n",
    "\n",
    "%matplotlib inline"
   ]
  },
  {
   "cell_type": "code",
   "execution_count": null,
   "metadata": {
    "ExecuteTime": {
     "end_time": "2020-05-04T12:47:51.098614Z",
     "start_time": "2020-05-04T12:47:51.079289Z"
    }
   },
   "outputs": [],
   "source": [
    "# Anscombe dataset includes 4 different data sets\n",
    "anscombe = sns.load_dataset(\"anscombe\")"
   ]
  },
  {
   "cell_type": "code",
   "execution_count": null,
   "metadata": {},
   "outputs": [],
   "source": [
    "# Let's see how the dataset looks like\n",
    "anscombe.head(5)"
   ]
  },
  {
   "cell_type": "code",
   "execution_count": null,
   "metadata": {
    "ExecuteTime": {
     "end_time": "2020-05-04T12:47:51.164417Z",
     "start_time": "2020-05-04T12:47:51.100992Z"
    }
   },
   "outputs": [],
   "source": [
    "# Get the descriptive statistics for each seperate dataset by grouping by dataset\n",
    "anscombe.groupby('dataset').describe()"
   ]
  },
  {
   "cell_type": "code",
   "execution_count": null,
   "metadata": {},
   "outputs": [],
   "source": [
    "# Now we want to build a model for each single dataset included in the overall one.\n",
    "# Let's create a function instead of writing it four times in a row\n",
    "import statsmodels.formula.api as smf\n",
    "# Define function, which takes dataset as string, defines x and y, fits an OLS model and generates intercept, slope and r_squared value\n",
    "def get_summarystats(dataset):\n",
    "    x = anscombe[anscombe.dataset==dataset].x\n",
    "    y = anscombe[anscombe.dataset==dataset].y\n",
    "    res = smf.ols(formula='y ~ x', data = anscombe[anscombe.dataset==dataset]).fit()\n",
    "    intercept, slope = res.params\n",
    "    r_value = res.rsquared\n",
    "    return intercept, slope, r_value"
   ]
  },
  {
   "cell_type": "code",
   "execution_count": null,
   "metadata": {},
   "outputs": [],
   "source": [
    "# Let's call the function for every dataset within a for loop and save results in an array\n",
    "results = []\n",
    "for dataset in 'I II III IV'.split():\n",
    "    intercept, slope, r_value = get_summarystats(dataset)\n",
    "    results.append([slope, intercept, r_value])\n",
    "\n",
    "print('[slope, intercept, r_value] for each dataset')\n",
    "results"
   ]
  },
  {
   "cell_type": "markdown",
   "metadata": {},
   "source": [
    "Even the descriptive statistics and the linear regression parameters are nearly the same, the datasets look destinctivly different.\n",
    "Let's have a look at the data and the linear regression lines."
   ]
  },
  {
   "cell_type": "code",
   "execution_count": null,
   "metadata": {
    "ExecuteTime": {
     "end_time": "2020-05-04T12:47:52.022446Z",
     "start_time": "2020-05-04T12:47:51.221011Z"
    }
   },
   "outputs": [],
   "source": [
    "# Show the results of a linear regression within each dataset\n",
    "sns.lmplot(x=\"x\", y=\"y\", col=\"dataset\", hue=\"dataset\", data=anscombe,\n",
    "           col_wrap=2, ci=None, palette=\"muted\", height=4, scatter_kws={\"s\": 50, \"alpha\": 1});"
   ]
  },
  {
   "cell_type": "markdown",
   "metadata": {
    "slideshow": {
     "slide_type": "slide"
    }
   },
   "source": [
    "We can see from the above that the lines which have been fitted as well as the summary statistics are all the same - although we have completely different data.  \n",
    "\n",
    "In this cases, it is purposefully obvious that the model has problems fitting lines to datasets II, III and IV.  \n",
    "In normal cases it is necessary to look at the plot of the residuals to catch these errors."
   ]
  },
  {
   "cell_type": "code",
   "execution_count": null,
   "metadata": {},
   "outputs": [],
   "source": [
    "# Defining function which calculates residuals and plots them\n",
    "def get_residuals(dataset):\n",
    "    obs_values = anscombe[anscombe.dataset==dataset].y \n",
    "    pred_values = get_summarystats(dataset)[0] * anscombe[anscombe.dataset==dataset].x + get_summarystats(dataset)[1] \n",
    "    residuals = obs_values - pred_values\n",
    "    #Plot residuals\n",
    "    fig, ax = plt.subplots(figsize=(8, 4))\n",
    "    ax.scatter(anscombe[anscombe.dataset==dataset].x, residuals, alpha=0.5)\n",
    "    ax.set_ylabel(\"Residuals\")\n",
    "    ax.set_xlabel(\"x\")\n",
    "    fig.suptitle('Residual Scatter Plot')\n",
    "    plt.show()"
   ]
  },
  {
   "cell_type": "code",
   "execution_count": null,
   "metadata": {},
   "outputs": [],
   "source": [
    "# Use defined function to plot residuals for all datasets\n",
    "for dataset in 'I II III IV'.split():\n",
    "    get_residuals(dataset) "
   ]
  },
  {
   "cell_type": "markdown",
   "metadata": {},
   "source": [
    "## Summary\n",
    "In a well-fitted model, the residuals will be randomly distributed - whereas in rather badly fitted models, you will find patterns in your residual-distribution.  \n",
    "These tell you that there are additional explanatory factors missing from your model.  \n",
    "[Further reading on residuals](https://www.statology.org/residuals/) as well as [here](https://towardsdatascience.com/how-to-use-residual-plots-for-regression-model-validation-c3c70e8ab378)."
   ]
  }
 ],
 "metadata": {
  "celltoolbar": "Raw Cell Format",
  "interpreter": {
   "hash": "52746facf0ff27bba74d90023bea822bf28860e85219d052de28537e22041b59"
  },
  "kernelspec": {
   "display_name": "Python 3.8.5 64-bit ('nf_base': conda)",
   "name": "python3"
  },
  "language_info": {
   "codemirror_mode": {
    "name": "ipython",
    "version": 3
   },
   "file_extension": ".py",
   "mimetype": "text/x-python",
   "name": "python",
   "nbconvert_exporter": "python",
   "pygments_lexer": "ipython3",
   "version": "3.8.5"
  },
  "toc": {
   "base_numbering": 1,
   "nav_menu": {},
   "number_sections": true,
   "sideBar": true,
   "skip_h1_title": false,
   "title_cell": "Table of Contents",
   "title_sidebar": "Contents",
   "toc_cell": false,
   "toc_position": {},
   "toc_section_display": true,
   "toc_window_display": false
  },
  "varInspector": {
   "cols": {
    "lenName": 16,
    "lenType": 16,
    "lenVar": 40
   },
   "kernels_config": {
    "python": {
     "delete_cmd_postfix": "",
     "delete_cmd_prefix": "del ",
     "library": "var_list.py",
     "varRefreshCmd": "print(var_dic_list())"
    },
    "r": {
     "delete_cmd_postfix": ") ",
     "delete_cmd_prefix": "rm(",
     "library": "var_list.r",
     "varRefreshCmd": "cat(var_dic_list()) "
    }
   },
   "types_to_exclude": [
    "module",
    "function",
    "builtin_function_or_method",
    "instance",
    "_Feature"
   ],
   "window_display": false
  }
 },
 "nbformat": 4,
 "nbformat_minor": 4
}
