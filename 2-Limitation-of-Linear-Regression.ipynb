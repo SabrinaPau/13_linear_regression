{
 "cells": [
  {
   "cell_type": "markdown",
   "source": [
    "# Limitation of Linear Regression"
   ],
   "metadata": {}
  },
  {
   "cell_type": "markdown",
   "source": [
    "The goal of this notebook is to highlight the limitations of Linear Regression.  \n",
    "The Linear Regression model is only able to identify linear relationships.  \n",
    "We use this famous collection of datasets to show OLS can return the same results from very different data."
   ],
   "metadata": {}
  },
  {
   "cell_type": "markdown",
   "source": [
    "__[Anscombe's quartet](https://en.wikipedia.org/wiki/Anscombe's_quartet)__"
   ],
   "metadata": {
    "slideshow": {
     "slide_type": "slide"
    }
   }
  },
  {
   "cell_type": "code",
   "execution_count": null,
   "source": [
    "import matplotlib.pyplot as plt\n",
    "import numpy as np\n",
    "import pandas as pd\n",
    "from scipy import stats\n",
    "import seaborn as sns\n",
    "\n",
    "%matplotlib inline"
   ],
   "outputs": [],
   "metadata": {
    "ExecuteTime": {
     "end_time": "2020-05-04T12:47:51.075402Z",
     "start_time": "2020-05-04T12:47:49.531811Z"
    },
    "slideshow": {
     "slide_type": "slide"
    }
   }
  },
  {
   "cell_type": "code",
   "execution_count": null,
   "source": [
    "# Anscombe dataset includes 4 different data sets\n",
    "anscombe = sns.load_dataset(\"anscombe\")"
   ],
   "outputs": [],
   "metadata": {
    "ExecuteTime": {
     "end_time": "2020-05-04T12:47:51.098614Z",
     "start_time": "2020-05-04T12:47:51.079289Z"
    }
   }
  },
  {
   "cell_type": "code",
   "execution_count": null,
   "source": [
    "# Get the descriptive statistics for each dataset\n",
    "anscombe.groupby('dataset').describe()"
   ],
   "outputs": [],
   "metadata": {
    "ExecuteTime": {
     "end_time": "2020-05-04T12:47:51.164417Z",
     "start_time": "2020-05-04T12:47:51.100992Z"
    }
   }
  },
  {
   "cell_type": "code",
   "execution_count": null,
   "source": [
    "# Defining function using linregress of stats module for builing a linear regression model for each of the datasets\n",
    "# Returns summary statistics\n",
    "def get_summarystats(dataset):\n",
    "    slope, intercept, r_value, p_value, std_err = stats.linregress(x=anscombe[anscombe.dataset==dataset].x,\n",
    "                                                               y=anscombe[anscombe.dataset==dataset].y)\n",
    "    \n",
    "    \n",
    "    return slope, intercept, r_value, p_value, std_err"
   ],
   "outputs": [],
   "metadata": {
    "ExecuteTime": {
     "end_time": "2020-05-04T12:47:51.181781Z",
     "start_time": "2020-05-04T12:47:51.171536Z"
    }
   }
  },
  {
   "cell_type": "code",
   "execution_count": null,
   "source": [
    "# Getting summary statistics for each dataset\n",
    "results = []\n",
    "for dataset in 'I II III IV'.split():\n",
    "    slope, intercept, r_value, p_value, std_err = get_summarystats(dataset)\n",
    "    results.append([slope, intercept, r_value])\n",
    "\n",
    "print('[slope, intercept, r_value] for each dataset')\n",
    "results"
   ],
   "outputs": [],
   "metadata": {
    "ExecuteTime": {
     "end_time": "2020-05-04T12:47:51.204561Z",
     "start_time": "2020-05-04T12:47:51.186127Z"
    }
   }
  },
  {
   "cell_type": "markdown",
   "source": [
    "Even the descriptive statistics and the linear regression parameters are nearly the same, the datasets look destinctivly different.\n",
    "Let's have a look at the data and the linear regression lines."
   ],
   "metadata": {}
  },
  {
   "cell_type": "code",
   "execution_count": null,
   "source": [
    "# Show the results of a linear regression within each dataset\n",
    "sns.lmplot(x=\"x\", y=\"y\", col=\"dataset\", hue=\"dataset\", data=anscombe,\n",
    "           col_wrap=2, ci=None, palette=\"muted\", height=4, scatter_kws={\"s\": 50, \"alpha\": 1});"
   ],
   "outputs": [],
   "metadata": {
    "ExecuteTime": {
     "end_time": "2020-05-04T12:47:52.022446Z",
     "start_time": "2020-05-04T12:47:51.221011Z"
    }
   }
  },
  {
   "cell_type": "markdown",
   "source": [
    "We can see from the above that the lines which have been fitted as well as the summary statistics are all the same - although we have completely different data.  \n",
    "\n",
    "In this cases, it is purposefully obvious that the model has problems fitting lines to datasets II, III and IV.  \n",
    "In normal cases it is necessary to look at the plot of the residuals to catch these errors."
   ],
   "metadata": {
    "slideshow": {
     "slide_type": "slide"
    }
   }
  },
  {
   "cell_type": "code",
   "execution_count": null,
   "source": [
    "import matplotlib.pyplot as plt"
   ],
   "outputs": [],
   "metadata": {}
  },
  {
   "cell_type": "code",
   "execution_count": null,
   "source": [
    "# Defining funtion which calculates residuals and plots them\n",
    "def get_residuals(dataset):\n",
    "    obs_values = anscombe[anscombe.dataset==dataset].y \n",
    "    pred_values = get_summarystats(dataset)[0] * anscombe[anscombe.dataset==dataset].x + get_summarystats(dataset)[1] \n",
    "    residuals = obs_values - pred_values\n",
    "    #Plot residuals\n",
    "    fig, ax = plt.subplots(figsize=(8, 4))\n",
    "    ax.scatter(anscombe[anscombe.dataset==dataset].x, residuals, alpha=0.5)\n",
    "    ax.set_ylabel(\"Residuals\")\n",
    "    ax.set_xlabel(\"x\")\n",
    "    fig.suptitle('Residual Scatter Plot')\n",
    "    plt.show()"
   ],
   "outputs": [],
   "metadata": {}
  },
  {
   "cell_type": "code",
   "execution_count": null,
   "source": [
    "# Use defined function to plot residuals for all datasets\n",
    "for dataset in 'I II III IV'.split():\n",
    "    get_residuals(dataset) "
   ],
   "outputs": [],
   "metadata": {}
  },
  {
   "cell_type": "markdown",
   "source": [
    "## Summary\n",
    "In a well-fitted model, the residuals will be randomly distributed - whereas in rather badly fitted models, you will find patterns in your residual-distribution.  \n",
    "These tell you that there are additional explanatory factors missing from your model.  \n",
    "[Further reading on residuals](https://www.statology.org/residuals/) as well as [here](https://towardsdatascience.com/how-to-use-residual-plots-for-regression-model-validation-c3c70e8ab378)."
   ],
   "metadata": {}
  },
  {
   "cell_type": "code",
   "execution_count": null,
   "source": [],
   "outputs": [],
   "metadata": {}
  }
 ],
 "metadata": {
  "celltoolbar": "Raw Cell Format",
  "kernelspec": {
   "name": "python3",
   "display_name": "Python 3.8.5 64-bit ('nf_base': conda)"
  },
  "language_info": {
   "codemirror_mode": {
    "name": "ipython",
    "version": 3
   },
   "file_extension": ".py",
   "mimetype": "text/x-python",
   "name": "python",
   "nbconvert_exporter": "python",
   "pygments_lexer": "ipython3",
   "version": "3.8.5"
  },
  "toc": {
   "base_numbering": 1,
   "nav_menu": {},
   "number_sections": true,
   "sideBar": true,
   "skip_h1_title": false,
   "title_cell": "Table of Contents",
   "title_sidebar": "Contents",
   "toc_cell": false,
   "toc_position": {},
   "toc_section_display": true,
   "toc_window_display": false
  },
  "varInspector": {
   "cols": {
    "lenName": 16,
    "lenType": 16,
    "lenVar": 40
   },
   "kernels_config": {
    "python": {
     "delete_cmd_postfix": "",
     "delete_cmd_prefix": "del ",
     "library": "var_list.py",
     "varRefreshCmd": "print(var_dic_list())"
    },
    "r": {
     "delete_cmd_postfix": ") ",
     "delete_cmd_prefix": "rm(",
     "library": "var_list.r",
     "varRefreshCmd": "cat(var_dic_list()) "
    }
   },
   "types_to_exclude": [
    "module",
    "function",
    "builtin_function_or_method",
    "instance",
    "_Feature"
   ],
   "window_display": false
  },
  "interpreter": {
   "hash": "0e4771abb73651cc71498e03f3559c7e0f15f38d5124065b3832974a7bbffea7"
  }
 },
 "nbformat": 4,
 "nbformat_minor": 4
}