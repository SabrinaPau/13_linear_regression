{
 "cells": [
  {
   "cell_type": "markdown",
   "metadata": {
    "slideshow": {
     "slide_type": "slide"
    }
   },
   "source": [
    "# Multiple Linear Regression\n",
    "\n",
    "So far we were just looking on simple linear regression problems. But within a linear regression model there could also be used more than one independent variable to describe the dependent varialbe. \n",
    "\n",
    "## Learning Objectives\n",
    "\n",
    "At the end of this notebook you should be able to\n",
    "- Apply multiple linear regression in python\n",
    "- Interprete multiple linear regression models\n",
    "- Explain why it is better to use **adjusted $R^2$** than $R^2$ to compare multiple linear regression models"
   ]
  },
  {
   "cell_type": "markdown",
   "metadata": {},
   "source": [
    "## The Multiple Regression Model\n",
    "\n",
    "Multiple linear regression is very similar to simple linear regression except that the dependent variable $y$ is described by $k$ independent variables $x_1, \\dots, x_k$  \n",
    "\n",
    "$$ y = \\beta_0 + \\beta_1 x_1 + \\beta_2 x_2 + \\dots + \\beta_k x_k + \\varepsilon $$  "
   ]
  },
  {
   "cell_type": "markdown",
   "metadata": {},
   "source": [
    "**Our predicted model**  \n",
    "\n",
    "$$\\hat{y} = b_0 + b_1 x_1 + b_2 x_2 + \\dots + b_k x_k$$\n",
    "\n",
    "* The interpretation of the intercept is the same  \n",
    "* Slope $b_i$ is the change in $y$ given a unit change in $x_i$ while **holding all other variables constant**  \n",
    "\n",
    "\n"
   ]
  },
  {
   "cell_type": "code",
   "execution_count": null,
   "metadata": {},
   "outputs": [],
   "source": [
    "!unzip data.zip"
   ]
  },
  {
   "cell_type": "code",
   "execution_count": null,
   "metadata": {
    "ExecuteTime": {
     "end_time": "2020-04-21T10:31:50.562671Z",
     "start_time": "2020-04-21T10:31:48.179498Z"
    },
    "slideshow": {
     "slide_type": "slide"
    }
   },
   "outputs": [],
   "source": [
    "import matplotlib.pyplot as plt\n",
    "import numpy as np\n",
    "import pandas as pd\n",
    "from scipy import stats\n",
    "import seaborn as sns\n",
    "\n",
    "%matplotlib inline"
   ]
  },
  {
   "cell_type": "code",
   "execution_count": null,
   "metadata": {
    "ExecuteTime": {
     "end_time": "2020-04-21T10:31:50.603684Z",
     "start_time": "2020-04-21T10:31:50.565714Z"
    },
    "slideshow": {
     "slide_type": "slide"
    }
   },
   "outputs": [],
   "source": [
    "#using the same car dataset as before\n",
    "cars = pd.read_csv(\"data/cars_multivariate.csv\",\n",
    "                  na_values='?')\n",
    "cars.head(n=2)"
   ]
  },
  {
   "cell_type": "code",
   "execution_count": null,
   "metadata": {
    "ExecuteTime": {
     "end_time": "2020-04-21T10:31:50.781539Z",
     "start_time": "2020-04-21T10:31:50.606733Z"
    },
    "slideshow": {
     "slide_type": "slide"
    }
   },
   "outputs": [],
   "source": [
    "cars.plot('horsepower', 'mpg', kind='scatter');"
   ]
  },
  {
   "cell_type": "markdown",
   "metadata": {
    "slideshow": {
     "slide_type": "slide"
    }
   },
   "source": [
    "## Define model\n",
    "\n",
    "As before, we will first use a simple linear regression model and see how well it fits our data."
   ]
  },
  {
   "cell_type": "code",
   "execution_count": null,
   "metadata": {
    "ExecuteTime": {
     "end_time": "2020-04-21T10:31:51.212590Z",
     "start_time": "2020-04-21T10:31:50.784050Z"
    },
    "slideshow": {
     "slide_type": "slide"
    }
   },
   "outputs": [],
   "source": [
    "import statsmodels.api as sm"
   ]
  },
  {
   "cell_type": "code",
   "execution_count": null,
   "metadata": {
    "ExecuteTime": {
     "end_time": "2020-04-21T10:31:51.244108Z",
     "start_time": "2020-04-21T10:31:51.214251Z"
    },
    "slideshow": {
     "slide_type": "fragment"
    }
   },
   "outputs": [],
   "source": [
    "X = cars.horsepower\n",
    "X = sm.add_constant(X)\n",
    "y = cars.mpg\n",
    "\n",
    "sm.OLS(y,X).fit().summary()"
   ]
  },
  {
   "cell_type": "markdown",
   "metadata": {
    "slideshow": {
     "slide_type": "slide"
    }
   },
   "source": [
    "This same model can be fitted using **another syntax** to define model:\n"
   ]
  },
  {
   "cell_type": "code",
   "execution_count": null,
   "metadata": {
    "ExecuteTime": {
     "end_time": "2020-04-21T10:31:51.289770Z",
     "start_time": "2020-04-21T10:31:51.258856Z"
    },
    "slideshow": {
     "slide_type": "fragment"
    }
   },
   "outputs": [],
   "source": [
    "# \"formula notation\" (similar to R)\n",
    "import statsmodels.formula.api as smf\n",
    "# Define the model, fit the model, and generate the summary\n",
    "smf.ols(formula='mpg ~ horsepower', data=cars).fit().summary()"
   ]
  },
  {
   "cell_type": "markdown",
   "metadata": {},
   "source": [
    "Did you notice, hat with this syntax we didn't need to add a \"constant\" to calculate the intercept? "
   ]
  },
  {
   "cell_type": "markdown",
   "metadata": {
    "slideshow": {
     "slide_type": "slide"
    }
   },
   "source": [
    "## Multiple Regression  \n",
    "\n",
    "Instead of using `horsepower` as the only independent variable to predict `mpg`, we might want to include other independent variables in the model.  \n",
    "\n",
    "Let's try to add `weight` to the model."
   ]
  },
  {
   "cell_type": "code",
   "execution_count": null,
   "metadata": {
    "ExecuteTime": {
     "end_time": "2020-04-21T10:31:51.673694Z",
     "start_time": "2020-04-21T10:31:51.294371Z"
    },
    "slideshow": {
     "slide_type": "fragment"
    }
   },
   "outputs": [],
   "source": [
    "sns.lmplot('weight', 'mpg',data=cars);"
   ]
  },
  {
   "cell_type": "code",
   "execution_count": null,
   "metadata": {
    "ExecuteTime": {
     "end_time": "2020-04-21T10:31:51.688307Z",
     "start_time": "2020-04-21T10:31:51.676705Z"
    },
    "slideshow": {
     "slide_type": "slide"
    }
   },
   "outputs": [],
   "source": [
    "X2 = cars[['horsepower', 'weight']]\n",
    "X2 = sm.add_constant(X2)\n",
    "y2 = cars.mpg\n",
    "\n",
    "X2.head(n=2)"
   ]
  },
  {
   "cell_type": "code",
   "execution_count": null,
   "metadata": {
    "ExecuteTime": {
     "end_time": "2020-04-21T10:31:51.703899Z",
     "start_time": "2020-04-21T10:31:51.690344Z"
    },
    "slideshow": {
     "slide_type": "slide"
    }
   },
   "outputs": [],
   "source": [
    "sm.OLS(y2, X2).fit().summary()"
   ]
  },
  {
   "cell_type": "markdown",
   "metadata": {
    "slideshow": {
     "slide_type": "slide"
    }
   },
   "source": [
    "Does this Model describe the variance of `mpg` better than the simple linear regression?"
   ]
  },
  {
   "cell_type": "markdown",
   "metadata": {
    "slideshow": {
     "slide_type": "fragment"
    }
   },
   "source": [
    "Our model explains about 70% of the variation in `mpg`."
   ]
  },
  {
   "cell_type": "markdown",
   "metadata": {
    "slideshow": {
     "slide_type": "slide"
    }
   },
   "source": [
    "Our multiple regression model is give by  \n",
    "\n",
    "$$ \\hat{mpg} = 45.6402 - 0.0473 \\times horsepower - 0.0058 \\times weight $$"
   ]
  },
  {
   "cell_type": "markdown",
   "metadata": {
    "slideshow": {
     "slide_type": "fragment"
    }
   },
   "source": [
    "What is the predicted `mpg` for a car with 200 `horsepower` and a `weight` of 3500?"
   ]
  },
  {
   "cell_type": "markdown",
   "metadata": {
    "slideshow": {
     "slide_type": "fragment"
    }
   },
   "source": [
    "$$ \\hat{mpg} = 45.6402 - 0.0473 (200) - 0.0058 (3500) = 15.88 $$  \n",
    "\n",
    "\n",
    "We would expected the `mpg` of the car to be 15.88.\n",
    "This can of course also be calculated with our model. We only need to call the `.predict()`function and name the values of X."
   ]
  },
  {
   "cell_type": "code",
   "execution_count": null,
   "metadata": {},
   "outputs": [],
   "source": [
    "test_car = [1,200,3500]\n",
    "sm.OLS(y2, X2).fit().predict(test_car)"
   ]
  },
  {
   "cell_type": "markdown",
   "metadata": {
    "slideshow": {
     "slide_type": "slide"
    }
   },
   "source": [
    "## Model Interpretation\n",
    "\n",
    "**Intercept** \n",
    "\n",
    "The mean value for $y$ when all $x=0$"
   ]
  },
  {
   "cell_type": "markdown",
   "metadata": {
    "slideshow": {
     "slide_type": "slide"
    }
   },
   "source": [
    "\n",
    "**slope**:\n",
    "\n",
    "For each unit increase in $x$, the expected increase/decrease in $y$ \n",
    "\n",
    "In the case of multiple linear regression, we need to add \"holding all other explanatory variables constant\", since there are more than one exaplanatory variable in the model.\n",
    "\n"
   ]
  },
  {
   "cell_type": "code",
   "execution_count": null,
   "metadata": {
    "ExecuteTime": {
     "end_time": "2020-04-21T10:31:51.711823Z",
     "start_time": "2020-04-21T10:31:51.705916Z"
    },
    "slideshow": {
     "slide_type": "slide"
    }
   },
   "outputs": [],
   "source": [
    "# The coefficients\n",
    "sm.OLS(y2, X2).fit().params"
   ]
  },
  {
   "cell_type": "markdown",
   "metadata": {
    "slideshow": {
     "slide_type": "fragment"
    }
   },
   "source": [
    "We would expect `mpg` to decrease by 0.047 as `horsepower` goes up by 1,  **holding `weight` constant**.\n",
    "\n",
    "We would expect `mpg` to decrease by 0.006 as `weight` increases by 1, **holding `horsepower` constant**, "
   ]
  },
  {
   "cell_type": "markdown",
   "metadata": {
    "slideshow": {
     "slide_type": "slide"
    }
   },
   "source": [
    "We can also use the other model syntax we have seen before with multiple linear regression:"
   ]
  },
  {
   "cell_type": "code",
   "execution_count": null,
   "metadata": {
    "ExecuteTime": {
     "end_time": "2020-04-21T10:31:51.744002Z",
     "start_time": "2020-04-21T10:31:51.713970Z"
    },
    "slideshow": {
     "slide_type": "fragment"
    }
   },
   "outputs": [],
   "source": [
    "# mpg explained by horsepower and weight\n",
    "smf.ols(formula='mpg ~ horsepower + weight', data=cars).fit().summary()"
   ]
  },
  {
   "cell_type": "markdown",
   "metadata": {
    "slideshow": {
     "slide_type": "slide"
    }
   },
   "source": [
    "Explore Multiple Regression\n",
    "-------\n",
    "\n",
    "A really graphical way of explaining Ordinary Least Squeares can be found here:\n",
    "[OLS Explained Visually](http://setosa.io/ev/ordinary-least-squares-regression/)\n",
    "\n",
    "Unfortunately, multiple linear regression is not so easy to display, but the use of only two independent variables predicting a dependent variable can still be displayed graphically with a 3D plot.\n",
    "\n",
    "Now we will try to plot the data points and our adjusted linear model on the three axes (horsepower, weight and mpg). With two variables instead of one independent variable, our model is not represented by a line, but by a 2D plane.\n",
    "\n",
    "How to built this 3D-plot is explained in this link: [Datarobot Multiple Regression Appendix, how to create a three dimensional hyperplane plot](https://www.datarobot.com/blog/multiple-regression-using-statsmodels/#appendix).\n",
    "\n",
    "Please try to implement the code for the 3D-plot on our Car data set and our multiple linear regression model using `horsepower` and `weight` as independent variables and `mpg` as dependent variable (`X2`,`y2`).\n",
    "\n",
    "If you type in \n",
    "```Python:\n",
    "%matplotlib notebook\n",
    "```\n",
    "you will get a interactive 3D-plot, where you can change your view on the data.\n",
    "\n",
    "In the cells below, the documentation is already complete (including the resource, which is good practice when using code Snipplets from others). You can just implement to code for 3-Plot from this resource acordingly to our data."
   ]
  },
  {
   "cell_type": "code",
   "execution_count": null,
   "metadata": {
    "ExecuteTime": {
     "end_time": "2020-04-21T10:31:51.756708Z",
     "start_time": "2020-04-21T10:31:51.746129Z"
    },
    "slideshow": {
     "slide_type": "slide"
    }
   },
   "outputs": [],
   "source": [
    "from mpl_toolkits.mplot3d import Axes3D"
   ]
  },
  {
   "cell_type": "code",
   "execution_count": null,
   "metadata": {
    "ExecuteTime": {
     "end_time": "2020-04-21T10:31:52.129504Z",
     "start_time": "2020-04-21T10:31:51.758525Z"
    },
    "slideshow": {
     "slide_type": "fragment"
    }
   },
   "outputs": [],
   "source": [
    "# reference: https://www.datarobot.com/blog/multiple-regression-using-statsmodels/#appendix\n",
    "\n",
    "\n",
    "# %matplotlib notebook\n",
    "## fit a OLS model with intercept on horsepower and weight\n",
    "\n",
    "\n",
    "## Create the 3d plot \n",
    "# horsepower/weight grid for 3d plot\n",
    "\n",
    "# plot the hyperplane (HP) by evaluating the parameters on the grid\n",
    "\n",
    "# create matplotlib 3d axes\n",
    "\n",
    "# plot hyperplane\n",
    "\n",
    "# plot data points - points over the HP are white, points below are black\n",
    "\n",
    "# set axis labels\n",
    "\n",
    "fig.show();"
   ]
  },
  {
   "cell_type": "markdown",
   "metadata": {
    "slideshow": {
     "slide_type": "slide"
    }
   },
   "source": [
    "**Example**  \n",
    "\n",
    "Now let's try to predict `mpg` using `displacement`, `horsepower`, `weight` and `acceleration`. "
   ]
  },
  {
   "cell_type": "code",
   "execution_count": null,
   "metadata": {
    "ExecuteTime": {
     "end_time": "2020-04-21T10:31:52.136486Z",
     "start_time": "2020-04-21T10:31:48.220Z"
    },
    "slideshow": {
     "slide_type": "fragment"
    }
   },
   "outputs": [],
   "source": [
    "cars[['displacement', 'horsepower', 'weight', 'acceleration']].corr()"
   ]
  },
  {
   "cell_type": "markdown",
   "metadata": {},
   "source": [
    "You see that there are quite some correlations between these variables! These correlations can also be seen in the scatter plots:"
   ]
  },
  {
   "cell_type": "code",
   "execution_count": null,
   "metadata": {
    "ExecuteTime": {
     "end_time": "2020-04-21T10:31:52.137890Z",
     "start_time": "2020-04-21T10:31:48.223Z"
    },
    "slideshow": {
     "slide_type": "slide"
    }
   },
   "outputs": [],
   "source": [
    "X3 = cars[['displacement', 'horsepower', 'weight', 'acceleration']]\n",
    "sns.pairplot(X3);\n"
   ]
  },
  {
   "cell_type": "code",
   "execution_count": null,
   "metadata": {
    "ExecuteTime": {
     "end_time": "2020-04-21T10:31:52.139554Z",
     "start_time": "2020-04-21T10:31:48.226Z"
    },
    "slideshow": {
     "slide_type": "slide"
    }
   },
   "outputs": [],
   "source": [
    "X3 = sm.add_constant(X3)\n",
    "y3 = cars.mpg\n",
    "\n",
    "model3 = sm.OLS(y3, X3)\n",
    "results3 = model3.fit()\n",
    "results3.summary()"
   ]
  },
  {
   "cell_type": "markdown",
   "metadata": {
    "slideshow": {
     "slide_type": "slide"
    }
   },
   "source": [
    "You should always wuestion your model. Here are some questions you should be able to anser:\n",
    "\n",
    "How good is the model fit?"
   ]
  },
  {
   "cell_type": "code",
   "execution_count": null,
   "metadata": {},
   "outputs": [],
   "source": []
  },
  {
   "cell_type": "markdown",
   "metadata": {
    "slideshow": {
     "slide_type": "slide"
    }
   },
   "source": [
    "What is our regression equation?"
   ]
  },
  {
   "cell_type": "code",
   "execution_count": null,
   "metadata": {},
   "outputs": [],
   "source": []
  },
  {
   "cell_type": "markdown",
   "metadata": {
    "slideshow": {
     "slide_type": "fragment"
    }
   },
   "source": [
    "\n",
    "\n",
    "<br>\n",
    "\n",
    "<details><summary>\n",
    "Click here for the solution\n",
    "</summary>\n",
    "(copy the lines below to a markdown cell)\n",
    "$$ \\hat{mpg} = 45.2511 - 0.0060 \\times displacement - 0.0436 \\times horsepower - 0.0053 \\times weight - 0.0231 \\times acceleration $$\n",
    "</details>\n"
   ]
  },
  {
   "cell_type": "markdown",
   "metadata": {
    "slideshow": {
     "slide_type": "fragment"
    }
   },
   "source": [
    "How do we interpret the model?"
   ]
  },
  {
   "cell_type": "code",
   "execution_count": null,
   "metadata": {},
   "outputs": [],
   "source": []
  },
  {
   "cell_type": "markdown",
   "metadata": {
    "slideshow": {
     "slide_type": "fragment"
    }
   },
   "source": [
    "Is it a good idea to include `displacement` in the model?"
   ]
  },
  {
   "cell_type": "code",
   "execution_count": null,
   "metadata": {},
   "outputs": [],
   "source": []
  },
  {
   "cell_type": "markdown",
   "metadata": {
    "slideshow": {
     "slide_type": "slide"
    }
   },
   "source": [
    "## $R^2$  \n",
    "\n",
    "\n",
    " $R^2$ leads to an overwhelming temptation to put lots of $X$’s in.  \n",
    "\n",
    "This is a not great idea 💡. We want to summarize and predict - __and__ we want to do it in the simplest possible way. "
   ]
  },
  {
   "cell_type": "code",
   "execution_count": null,
   "metadata": {
    "ExecuteTime": {
     "end_time": "2020-04-21T10:31:52.140932Z",
     "start_time": "2020-04-21T10:31:48.229Z"
    },
    "slideshow": {
     "slide_type": "slide"
    }
   },
   "outputs": [],
   "source": [
    "rs = smf.ols(formula='mpg ~ horsepower', data=cars).fit().rsquared\n",
    "f'{rs:.3}'"
   ]
  },
  {
   "cell_type": "code",
   "execution_count": null,
   "metadata": {
    "ExecuteTime": {
     "end_time": "2020-04-21T10:31:52.141953Z",
     "start_time": "2020-04-21T10:31:48.232Z"
    },
    "slideshow": {
     "slide_type": "fragment"
    }
   },
   "outputs": [],
   "source": [
    "rs = smf.ols(formula='mpg ~ horsepower + weight', data=cars).fit().rsquared\n",
    "f'{rs:.3}'"
   ]
  },
  {
   "cell_type": "code",
   "execution_count": null,
   "metadata": {
    "ExecuteTime": {
     "end_time": "2020-04-21T10:31:52.143294Z",
     "start_time": "2020-04-21T10:31:48.234Z"
    },
    "slideshow": {
     "slide_type": "fragment"
    }
   },
   "outputs": [],
   "source": [
    "rs = smf.ols(formula='mpg ~ displacement + horsepower + weight + acceleration', data=cars).fit().rsquared\n",
    "f'{rs:.3}'"
   ]
  },
  {
   "cell_type": "markdown",
   "metadata": {
    "slideshow": {
     "slide_type": "slide"
    }
   },
   "source": [
    "## Adjusted $R^2$  \n",
    "\n",
    "The adjusted $R^2$ is designed to build in an automatic penalty for adding an $X$.  \n",
    "\n",
    "$$R_a^2 = 1 - \\frac{\\frac{1}{n - k - 1} SSE}{\\frac{1}{n - 1} SST} $$  \n",
    "\n",
    "We use adjusted $R^2$ when we compare models with different numbers of independent variables.\n",
    "\n",
    "$R^2$ penalizes model complexity (to control for overfitting), but it generally [under-penalizes complexity](http://scott.fortmann-roe.com/docs/MeasuringError.html)."
   ]
  },
  {
   "cell_type": "markdown",
   "metadata": {
    "slideshow": {
     "slide_type": "slide"
    }
   },
   "source": [
    "According to the adjusted $R^2$, which is the best model we have fitted so far? Calculate adjusted $R^2$ for the former three models!"
   ]
  },
  {
   "cell_type": "markdown",
   "metadata": {
    "slideshow": {
     "slide_type": "slide"
    }
   },
   "source": [
    "Summary\n",
    "-----\n",
    "\n",
    "- We extend the linear regression model to include many explanatory variables (Xs).\n",
    "- All explanatory variables should be independent of each other.\n",
    "- $R^2$ allows use to measure how good a model fits the data.\n",
    "- Adjusted $R^2$ penalizes adding non-useful explanatory variables. And is used to compare models with different numbers of independent variables."
   ]
  },
  {
   "cell_type": "markdown",
   "metadata": {
    "slideshow": {
     "slide_type": "slide"
    }
   },
   "source": [
    "----\n",
    "Bonus Material\n",
    "----"
   ]
  },
  {
   "cell_type": "markdown",
   "metadata": {
    "slideshow": {
     "slide_type": "slide"
    }
   },
   "source": [
    "### The Overall F Test  \n",
    "\n",
    "Instead of testing if one independent variable is useful for predicting the dependent variable, we might want to test if the model as a whole is useful for predicting the dependent variable.  \n",
    "\n",
    "For that, we use the F test.  \n",
    "\n",
    "* It tests the null hypothesis:  \n",
    "\n",
    "$$ H_0: \\beta_1 = \\beta_2 = \\dots = \\beta_k = 0$$  \n",
    "\n",
    "* Under the null hypothesis, there are no $X$ variables in the model.  \n",
    "\n",
    "* The alternative hypothesis:  \n",
    "\n",
    "$$ H_a: \\text{ at least one } \\beta_i \\neq 0 $$  "
   ]
  },
  {
   "cell_type": "markdown",
   "metadata": {
    "slideshow": {
     "slide_type": "slide"
    }
   },
   "source": [
    "**Test statistic**  \n",
    "\n",
    "$$f = \\frac{\\frac{SSR}{k}}{\\frac{SSE}{(n - k - 1)}}$$ \n",
    "\n",
    "The larger the value of $f$, the stronger the evidence to reject the null.  \n",
    "\n",
    "The test statistic follows an F distribution, and we find the p-value by comparing the test statistic to an F distribution with degress of freedom $k$ and $n - k - 1$.   \n",
    "\n",
    "We will simply read the p-value from the regression output. (Score!)"
   ]
  },
  {
   "cell_type": "code",
   "execution_count": null,
   "metadata": {
    "ExecuteTime": {
     "end_time": "2020-04-21T10:31:52.144264Z",
     "start_time": "2020-04-21T10:31:48.238Z"
    },
    "slideshow": {
     "slide_type": "slide"
    }
   },
   "outputs": [],
   "source": [
    "\n",
    "results3.summary()"
   ]
  },
  {
   "cell_type": "markdown",
   "metadata": {
    "slideshow": {
     "slide_type": "slide"
    }
   },
   "source": [
    "$$\\text{F-statistic} = 233.4$$\n",
    "$$\\text{p-value} = 9.63 \\times 10^{-102} $$   \n",
    "\n",
    "We have extremely strong evidence to conclude that the at least one of the variables in the model is useful for predicting `mpg`."
   ]
  },
  {
   "cell_type": "markdown",
   "metadata": {
    "slideshow": {
     "slide_type": "slide"
    }
   },
   "source": [
    "Is Model 1 (with one variable `horsepower`) useful for predicting `mpg`?"
   ]
  },
  {
   "cell_type": "code",
   "execution_count": null,
   "metadata": {
    "ExecuteTime": {
     "end_time": "2020-04-21T10:31:52.145415Z",
     "start_time": "2020-04-21T10:31:48.241Z"
    },
    "slideshow": {
     "slide_type": "fragment"
    }
   },
   "outputs": [],
   "source": [
    "# Add the model here and answer the questions by looking at the Regression Results\n",
    "results.summary()"
   ]
  },
  {
   "cell_type": "markdown",
   "metadata": {
    "slideshow": {
     "slide_type": "slide"
    }
   },
   "source": [
    "Is Model 2 (with two variables `horsepower` and `weight`) useful for predicting `mpg`?"
   ]
  },
  {
   "cell_type": "code",
   "execution_count": null,
   "metadata": {
    "ExecuteTime": {
     "end_time": "2020-04-21T10:31:52.146663Z",
     "start_time": "2020-04-21T10:31:48.244Z"
    },
    "slideshow": {
     "slide_type": "fragment"
    }
   },
   "outputs": [],
   "source": [
    "# Add the model here and answer the questions by looking at the Regression Results\n",
    "results2.summary()"
   ]
  },
  {
   "cell_type": "code",
   "execution_count": null,
   "metadata": {
    "ExecuteTime": {
     "end_time": "2020-04-21T10:31:52.147830Z",
     "start_time": "2020-04-21T10:31:48.246Z"
    }
   },
   "outputs": [],
   "source": [
    "X4 = cars[['displacement', 'horsepower', 'acceleration']]\n",
    "\n",
    "X4 = sm.add_constant(X4)\n",
    "y3 = cars.mpg\n",
    "\n",
    "model4 = sm.OLS(y3, X4)\n",
    "results4 = model4.fit()\n",
    "results4.summary()"
   ]
  }
 ],
 "metadata": {
  "anaconda-cloud": {},
  "celltoolbar": "Raw Cell Format",
  "kernelspec": {
   "display_name": "Python [conda env:nf_base] *",
   "language": "python",
   "name": "conda-env-nf_base-py"
  },
  "language_info": {
   "codemirror_mode": {
    "name": "ipython",
    "version": 3
   },
   "file_extension": ".py",
   "mimetype": "text/x-python",
   "name": "python",
   "nbconvert_exporter": "python",
   "pygments_lexer": "ipython3",
   "version": "3.8.5"
  },
  "toc": {
   "base_numbering": 1,
   "nav_menu": {},
   "number_sections": true,
   "sideBar": true,
   "skip_h1_title": false,
   "title_cell": "Table of Contents",
   "title_sidebar": "Contents",
   "toc_cell": false,
   "toc_position": {},
   "toc_section_display": true,
   "toc_window_display": false
  },
  "varInspector": {
   "cols": {
    "lenName": 16,
    "lenType": 16,
    "lenVar": 40
   },
   "kernels_config": {
    "python": {
     "delete_cmd_postfix": "",
     "delete_cmd_prefix": "del ",
     "library": "var_list.py",
     "varRefreshCmd": "print(var_dic_list())"
    },
    "r": {
     "delete_cmd_postfix": ") ",
     "delete_cmd_prefix": "rm(",
     "library": "var_list.r",
     "varRefreshCmd": "cat(var_dic_list()) "
    }
   },
   "types_to_exclude": [
    "module",
    "function",
    "builtin_function_or_method",
    "instance",
    "_Feature"
   ],
   "window_display": false
  }
 },
 "nbformat": 4,
 "nbformat_minor": 4
}
